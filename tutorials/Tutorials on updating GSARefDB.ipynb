{
 "cells": [
  {
   "cell_type": "markdown",
   "metadata": {},
   "source": [
    "# Tutorials on updating GSARefDB\n",
    "\n",
    "Contributor: Chengshu Xie <br>\n",
    "Date of first version: 2020-05-20 <br>\n",
    "Date of last review: 2020-07-03 <br>\n",
    "\n",
    "##### Summary:\n",
    "This is tutorials about how to update the shiny work \"GSARefDB\".\n",
    "\n",
    "##### Contents:\n",
    "\n",
    "1. global.R\n",
    "\n",
    "2. ui.R\n",
    "\n",
    "3. server.R\n",
    "\n",
    "\n",
    "\n",
    "There are the structure of the whole shiny app:\n",
    "![p0](jupypic/str.png)"
   ]
  },
  {
   "cell_type": "markdown",
   "metadata": {},
   "source": [
    "## 1. global.R\n",
    "\n",
    "`global.R` contains the following 3 sections:\n",
    "* libraring the R packages in need\n",
    "* sourcing R codes required\n",
    "* importing data\n",
    "\n",
    "Notes: Importing data is not necessary in `global.R` file, and the data could be loaded in `server.R` file. Users could choose the way to load data.  \n",
    "\n",
    "![p1](jupypic/global.png)"
   ]
  },
  {
   "cell_type": "markdown",
   "metadata": {},
   "source": [
    "## 2. ui.R\n",
    "\n",
    "`ui.R` contains the structure and display of the shiny app:\n",
    "* Theme and title\n",
    "* Menus \n",
    "* Overview of Data and FAQs\n",
    "\n",
    "### 2.1 Theme and Title\n",
    "\n",
    "![p2](jupypic/theme_title.png)\n",
    "\n",
    "1) As the image shown, the theme could be changed with `try.css` file under the folder `www`. And if you're not familiar with `.css`, you could try `shinytheme()` to select one theme that you like (e.g. shinytheme(\"cerulean\")). <br>\n",
    "2) About the title, you could change it by `tags$div()`. "
   ]
  },
  {
   "attachments": {},
   "cell_type": "markdown",
   "metadata": {},
   "source": [
    "### 2.2 Menus\n",
    "\n",
    "`navbarPage()` is used to create a page that contains a top level navigation bar that can be used to toggle a set of tabPanel elements. <br> \n",
    "And `tabPanel()` is used to add sub pages.\n",
    "\n",
    "![p3](jupypic/main_menus.png)\n",
    "\n",
    "\n",
    "### 2.3 Overview of Data and FAQs\n",
    "\n",
    "As the image shown, `DT::dataTableOutput()` is used to present data tables from .xlsx, .csv or other files; `Shiny::plotOutput()` is used to display plots, and `includeMarkdown()` is used to present plain text.\n",
    "\n",
    "![p4](jupypic/contents.png)"
   ]
  },
  {
   "cell_type": "markdown",
   "metadata": {},
   "source": [
    "## 3. server.R\n",
    "\n",
    "This R file is updated with `ui.R`. \n",
    "If add data tables(using `DT::dataTableOutput())`, then the function to export is `DT::renderDataTable(DT::datatable(......))`;<br>\n",
    "If making plots(using `shiny::plotOutput()`), then the function to export is `renderPlot({})`."
   ]
  },
  {
   "cell_type": "code",
   "execution_count": 8,
   "metadata": {},
   "outputs": [
    {
     "data": {
      "text/plain": [
       "R version 3.6.3 (2020-02-29)\n",
       "Platform: x86_64-w64-mingw32/x64 (64-bit)\n",
       "Running under: Windows 10 x64 (build 18363)\n",
       "\n",
       "Matrix products: default\n",
       "\n",
       "locale:\n",
       "[1] LC_COLLATE=Chinese (Simplified)_China.936 \n",
       "[2] LC_CTYPE=Chinese (Simplified)_China.936   \n",
       "[3] LC_MONETARY=Chinese (Simplified)_China.936\n",
       "[4] LC_NUMERIC=C                              \n",
       "[5] LC_TIME=Chinese (Simplified)_China.936    \n",
       "\n",
       "attached base packages:\n",
       "[1] stats     graphics  grDevices utils     datasets  methods   base     \n",
       "\n",
       "loaded via a namespace (and not attached):\n",
       " [1] compiler_3.6.3  IRdisplay_0.7.0 pbdZMQ_0.3-3    tools_3.6.3    \n",
       " [5] htmltools_0.4.0 pillar_1.4.4    base64enc_0.1-3 crayon_1.3.4   \n",
       " [9] Rcpp_1.0.4.6    uuid_0.1-4      IRkernel_1.1    jsonlite_1.6.1 \n",
       "[13] digest_0.6.25   repr_1.1.0      rlang_0.4.5     evaluate_0.14  "
      ]
     },
     "metadata": {},
     "output_type": "display_data"
    }
   ],
   "source": [
    "sessionInfo()"
   ]
  }
 ],
 "metadata": {
  "kernelspec": {
   "display_name": "R 3.6.3",
   "language": "R",
   "name": "ir363"
  },
  "language_info": {
   "codemirror_mode": "r",
   "file_extension": ".r",
   "mimetype": "text/x-r-source",
   "name": "R",
   "pygments_lexer": "r",
   "version": "3.6.3"
  }
 },
 "nbformat": 4,
 "nbformat_minor": 2
}
